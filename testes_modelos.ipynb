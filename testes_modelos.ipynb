{
 "cells": [
  {
   "cell_type": "code",
   "execution_count": 155,
   "metadata": {},
   "outputs": [],
   "source": [
    "import pandas as pd\n",
    "import numpy as np\n",
    "from statsmodels.tsa.arima.model import ARIMA\n",
    "from pmdarima import auto_arima\n",
    "from statsmodels.tsa.holtwinters import SimpleExpSmoothing, ExponentialSmoothing\n",
    "import matplotlib.pyplot as plt\n",
    "from sklearn.metrics import mean_squared_error, mean_absolute_percentage_error, r2_score"
   ]
  },
  {
   "cell_type": "code",
   "execution_count": 5,
   "metadata": {},
   "outputs": [
    {
     "data": {
      "text/html": [
       "<div>\n",
       "<style scoped>\n",
       "    .dataframe tbody tr th:only-of-type {\n",
       "        vertical-align: middle;\n",
       "    }\n",
       "\n",
       "    .dataframe tbody tr th {\n",
       "        vertical-align: top;\n",
       "    }\n",
       "\n",
       "    .dataframe thead th {\n",
       "        text-align: right;\n",
       "    }\n",
       "</style>\n",
       "<table border=\"1\" class=\"dataframe\">\n",
       "  <thead>\n",
       "    <tr style=\"text-align: right;\">\n",
       "      <th></th>\n",
       "      <th>id</th>\n",
       "      <th>store_nbr</th>\n",
       "      <th>family</th>\n",
       "      <th>quantity</th>\n",
       "      <th>onpromotion</th>\n",
       "    </tr>\n",
       "    <tr>\n",
       "      <th>date</th>\n",
       "      <th></th>\n",
       "      <th></th>\n",
       "      <th></th>\n",
       "      <th></th>\n",
       "      <th></th>\n",
       "    </tr>\n",
       "  </thead>\n",
       "  <tbody>\n",
       "    <tr>\n",
       "      <th>2013-01-02</th>\n",
       "      <td>3036</td>\n",
       "      <td>44</td>\n",
       "      <td>AUTOMOTIVE</td>\n",
       "      <td>16.000</td>\n",
       "      <td>0</td>\n",
       "    </tr>\n",
       "    <tr>\n",
       "      <th>2013-01-02</th>\n",
       "      <td>3068</td>\n",
       "      <td>44</td>\n",
       "      <td>SEAFOOD</td>\n",
       "      <td>150.367</td>\n",
       "      <td>0</td>\n",
       "    </tr>\n",
       "    <tr>\n",
       "      <th>2013-01-02</th>\n",
       "      <td>3065</td>\n",
       "      <td>44</td>\n",
       "      <td>PREPARED FOODS</td>\n",
       "      <td>616.862</td>\n",
       "      <td>0</td>\n",
       "    </tr>\n",
       "    <tr>\n",
       "      <th>2013-01-02</th>\n",
       "      <td>3064</td>\n",
       "      <td>44</td>\n",
       "      <td>POULTRY</td>\n",
       "      <td>1034.765</td>\n",
       "      <td>0</td>\n",
       "    </tr>\n",
       "    <tr>\n",
       "      <th>2013-01-02</th>\n",
       "      <td>3061</td>\n",
       "      <td>44</td>\n",
       "      <td>PERSONAL CARE</td>\n",
       "      <td>716.000</td>\n",
       "      <td>0</td>\n",
       "    </tr>\n",
       "  </tbody>\n",
       "</table>\n",
       "</div>"
      ],
      "text/plain": [
       "              id  store_nbr          family  quantity  onpromotion\n",
       "date                                                              \n",
       "2013-01-02  3036         44      AUTOMOTIVE    16.000            0\n",
       "2013-01-02  3068         44         SEAFOOD   150.367            0\n",
       "2013-01-02  3065         44  PREPARED FOODS   616.862            0\n",
       "2013-01-02  3064         44         POULTRY  1034.765            0\n",
       "2013-01-02  3061         44   PERSONAL CARE   716.000            0"
      ]
     },
     "execution_count": 5,
     "metadata": {},
     "output_type": "execute_result"
    }
   ],
   "source": [
    "df = pd.read_csv('dataset/corporacion-favorit/store44.csv', index_col='date', parse_dates=True)\n",
    "df.head()\n"
   ]
  },
  {
   "cell_type": "code",
   "execution_count": 66,
   "metadata": {},
   "outputs": [
    {
     "data": {
      "text/plain": [
       "id              1943641\n",
       "store_nbr            44\n",
       "family         CLEANING\n",
       "quantity         2840.0\n",
       "onpromotion           4\n",
       "Name: 2015-12-30 00:00:00, dtype: object"
      ]
     },
     "execution_count": 66,
     "metadata": {},
     "output_type": "execute_result"
    }
   ],
   "source": [
    "min(df.index)\n",
    "max(df.index)\n",
    "i = int(0.6 * len(df.index))\n",
    "df.iloc[i]\n"
   ]
  },
  {
   "cell_type": "code",
   "execution_count": 80,
   "metadata": {},
   "outputs": [],
   "source": [
    "import pandas as pd\n",
    "import numpy as np\n",
    "from statsmodels.graphics.tsaplots import plot_acf, plot_pacf\n",
    "from statsmodels.tsa.stattools import adfuller\n",
    "import matplotlib.pyplot as plt\n"
   ]
  },
  {
   "cell_type": "code",
   "execution_count": 180,
   "metadata": {},
   "outputs": [],
   "source": [
    "def calling_arima(df,family, order=(1,0,2), metrics=True):\n",
    "    fdf = df[df['family'] == family].copy()\n",
    "    fdf = fdf.asfreq('ME')\n",
    "    \n",
    "    #X = fdf.drop(columns={'id','store_nbr','family'})\n",
    "    y = pd.to_numeric(fdf['quantity'], errors='coerce')\n",
    "\n",
    "    #X_train = X[X.index < '2016-10-24']\n",
    "    #X_test = X[X.index >= '2016-10-24']\n",
    "    y_train = y[y.index < '2016-11-24']\n",
    "    y_test = y[y.index >= '2016-11-24']\n",
    "\n",
    "    model = ARIMA(y_train, order=order)\n",
    "    model_fit = model.fit()\n",
    "\n",
    "    # Make predictions\n",
    "    predictions = model_fit.forecast(steps=len(y_test))\n",
    "\n",
    "    #model2 = ExponentialSmoothing(y_train,trend='additive')\n",
    "    #fit_model = model2.fit()\n",
    "\n",
    "    #fit_model.summary()\n",
    "    #predictions = fit_model.predict(len(y_test))\n",
    "    \n",
    "\n",
    "\n",
    "\n",
    "    if metrics:\n",
    "    # Calculate performance metrics\n",
    "        mse = mean_squared_error(y_test, predictions)\n",
    "        rmse = np.sqrt(mse)\n",
    "        mape = mean_absolute_percentage_error(y_test, predictions)\n",
    "        r2 = r2_score(y_test, predictions)\n",
    "                                            \n",
    "        print(f'MSE: {mse}')\n",
    "        print(f'RMSE: {rmse}')\n",
    "        print(f'MAPE: {mape}')\n",
    "        print(f'R²: {r2}')\n",
    "\n",
    "        return model_fit, y_test, predictions, mse, rmse, mape, r2\n",
    "    else:\n",
    "        return model_fit, predictions"
   ]
  },
  {
   "cell_type": "code",
   "execution_count": 181,
   "metadata": {},
   "outputs": [
    {
     "name": "stdout",
     "output_type": "stream",
     "text": [
      "MSE: 7187437.839702824\n",
      "RMSE: 2680.9397307106374\n",
      "MAPE: 0.16069748585893476\n",
      "R²: -1.1108060857087656\n"
     ]
    }
   ],
   "source": [
    "model_fit, y_test,predictions, mse, rmse, mape, r2 = calling_arima(df, family='GROCERY I')"
   ]
  },
  {
   "cell_type": "code",
   "execution_count": 182,
   "metadata": {},
   "outputs": [
    {
     "data": {
      "text/plain": [
       "array([8737.49596328, 9996.74816923, 9110.24566772, 9573.69026553,\n",
       "       9331.41131553, 9458.06958254, 9391.85534229, 9426.47073468,\n",
       "       9408.37454592])"
      ]
     },
     "execution_count": 182,
     "metadata": {},
     "output_type": "execute_result"
    }
   ],
   "source": [
    "predictions.values"
   ]
  },
  {
   "cell_type": "code",
   "execution_count": 183,
   "metadata": {},
   "outputs": [],
   "source": [
    "df_compare = pd.DataFrame({\n",
    "    'y_test': y_test.values,\n",
    "    'y_pred': predictions.values\n",
    "}, index=y_test.index)"
   ]
  },
  {
   "cell_type": "code",
   "execution_count": 184,
   "metadata": {},
   "outputs": [
    {
     "data": {
      "text/html": [
       "<div>\n",
       "<style scoped>\n",
       "    .dataframe tbody tr th:only-of-type {\n",
       "        vertical-align: middle;\n",
       "    }\n",
       "\n",
       "    .dataframe tbody tr th {\n",
       "        vertical-align: top;\n",
       "    }\n",
       "\n",
       "    .dataframe thead th {\n",
       "        text-align: right;\n",
       "    }\n",
       "</style>\n",
       "<table border=\"1\" class=\"dataframe\">\n",
       "  <thead>\n",
       "    <tr style=\"text-align: right;\">\n",
       "      <th></th>\n",
       "      <th>y_test</th>\n",
       "      <th>y_pred</th>\n",
       "    </tr>\n",
       "    <tr>\n",
       "      <th>date</th>\n",
       "      <th></th>\n",
       "      <th></th>\n",
       "    </tr>\n",
       "  </thead>\n",
       "  <tbody>\n",
       "    <tr>\n",
       "      <th>2016-11-30</th>\n",
       "      <td>11083.0</td>\n",
       "      <td>8737.495963</td>\n",
       "    </tr>\n",
       "    <tr>\n",
       "      <th>2016-12-31</th>\n",
       "      <td>11226.0</td>\n",
       "      <td>9996.748169</td>\n",
       "    </tr>\n",
       "    <tr>\n",
       "      <th>2017-01-31</th>\n",
       "      <td>8936.0</td>\n",
       "      <td>9110.245668</td>\n",
       "    </tr>\n",
       "    <tr>\n",
       "      <th>2017-02-28</th>\n",
       "      <td>14400.0</td>\n",
       "      <td>9573.690266</td>\n",
       "    </tr>\n",
       "    <tr>\n",
       "      <th>2017-03-31</th>\n",
       "      <td>12173.0</td>\n",
       "      <td>9331.411316</td>\n",
       "    </tr>\n",
       "    <tr>\n",
       "      <th>2017-04-30</th>\n",
       "      <td>14442.0</td>\n",
       "      <td>9458.069583</td>\n",
       "    </tr>\n",
       "    <tr>\n",
       "      <th>2017-05-31</th>\n",
       "      <td>9829.0</td>\n",
       "      <td>9391.855342</td>\n",
       "    </tr>\n",
       "    <tr>\n",
       "      <th>2017-06-30</th>\n",
       "      <td>10411.0</td>\n",
       "      <td>9426.470735</td>\n",
       "    </tr>\n",
       "    <tr>\n",
       "      <th>2017-07-31</th>\n",
       "      <td>9934.0</td>\n",
       "      <td>9408.374546</td>\n",
       "    </tr>\n",
       "  </tbody>\n",
       "</table>\n",
       "</div>"
      ],
      "text/plain": [
       "             y_test       y_pred\n",
       "date                            \n",
       "2016-11-30  11083.0  8737.495963\n",
       "2016-12-31  11226.0  9996.748169\n",
       "2017-01-31   8936.0  9110.245668\n",
       "2017-02-28  14400.0  9573.690266\n",
       "2017-03-31  12173.0  9331.411316\n",
       "2017-04-30  14442.0  9458.069583\n",
       "2017-05-31   9829.0  9391.855342\n",
       "2017-06-30  10411.0  9426.470735\n",
       "2017-07-31   9934.0  9408.374546"
      ]
     },
     "execution_count": 184,
     "metadata": {},
     "output_type": "execute_result"
    }
   ],
   "source": [
    "df_compare "
   ]
  },
  {
   "cell_type": "code",
   "execution_count": 178,
   "metadata": {},
   "outputs": [
    {
     "data": {
      "text/plain": [
       "[<matplotlib.lines.Line2D at 0x7372bb9424d0>]"
      ]
     },
     "execution_count": 178,
     "metadata": {},
     "output_type": "execute_result"
    },
    {
     "data": {
      "image/png": "[encoded data removed]",
      "text/plain": [
       "<Figure size 640x480 with 1 Axes>"
      ]
     },
     "metadata": {},
     "output_type": "display_data"
    }
   ],
   "source": [
    "plt.plot(df_compare.index, df_compare['y_test'], label='Dados Reais', color='blue')\n",
    "\n",
    "# Plotar as previsões\n",
    "plt.plot(df_compare.index, df_compare['y_pred'], label='Previsões', color='red', linestyle='--')"
   ]
  },
  {
   "cell_type": "code",
   "execution_count": 150,
   "metadata": {},
   "outputs": [],
   "source": [
    "from prophet import Prophet"
   ]
  },
  {
   "cell_type": "code",
   "execution_count": null,
   "metadata": {},
   "outputs": [],
   "source": []
  }
 ],
 "metadata": {
  "kernelspec": {
   "display_name": "base",
   "language": "python",
   "name": "python3"
  },
  "language_info": {
   "codemirror_mode": {
    "name": "ipython",
    "version": 3
   },
   "file_extension": ".py",
   "mimetype": "text/x-python",
   "name": "python",
   "nbconvert_exporter": "python",
   "pygments_lexer": "ipython3",
   "version": "3.11.5"
  }
 },
 "nbformat": 4,
 "nbformat_minor": 2
}
