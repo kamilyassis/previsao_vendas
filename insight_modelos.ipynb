{
 "cells": [
  {
   "cell_type": "markdown",
   "metadata": {},
   "source": [
    "Sim, se a série temporal for estacionária, o valor de d (o número de diferenças necessárias para tornar a série estacionária) deve ser 0. Aqui está um resumo para ajudar a entender melhor:\n",
    "1. Estacionariedade\n",
    "\n",
    "Uma série temporal é considerada estacionária se suas propriedades estatísticas (média, variância e autocorrelação) não mudam ao longo do tempo. "
   ]
  },
  {
   "cell_type": "markdown",
   "metadata": {},
   "source": [
    "2. Papel do Parâmetro d\n",
    "\n",
    "    dd representa o número de diferenças não sazonais necessárias para tornar a série estacionária. Se a série já é estacionária, você não precisa diferenciar os dados, então dd deve ser 0."
   ]
  },
  {
   "cell_type": "markdown",
   "metadata": {},
   "source": [
    "3. Parâmetro p - Ordem Autoregressiva (AR)\n",
    "\n",
    "    Propósito: O parâmetro p é o número de termos autoregressivos no modelo. Ele define quantos períodos passados são usados para prever o valor atual.\n",
    "\n",
    "    Como Determinar:\n",
    "        PACF (Partial Autocorrelation Function): O gráfico de PACF ajuda a identificar o valor de p. O número de lags onde o gráfico de PACF corta o intervalo de confiança é o valor sugerido para p.\n",
    "\n",
    "4. Parâmetro q - Ordem da Média Móvel (MA)\n",
    "\n",
    "    Propósito: O parâmetro q é o número de termos de média móvel no modelo. Ele define quantos erros passados são usados para prever o valor atual.\n",
    "\n",
    "    Como Determinar:\n",
    "        ACF (Autocorrelation Function): O gráfico de ACF ajuda a identificar o valor de qq. O número de lags onde o gráfico de ACF corta o intervalo de confiança é o valor sugerido para q."
   ]
  },
  {
   "cell_type": "markdown",
   "metadata": {},
   "source": [
    "gpt recomendou:\n",
    "- arima\n",
    "- sarima\n",
    "- OLS\n",
    "- RandomForest\n",
    "- GradientBoosting"
   ]
  },
  {
   "cell_type": "markdown",
   "metadata": {},
   "source": [
    "top 3 do lazypredict:\n",
    "\n",
    "TweedieRegressor                      \n",
    "ElasticNetCV                         \n",
    "GammaRegressor "
   ]
  },
  {
   "cell_type": "markdown",
   "metadata": {},
   "source": [
    "p é o valor de lags \n",
    "\n",
    "\n",
    "P: Número de lags sazonais para o componente autoregressivo.\n",
    "DD: Número de diferenciações sazonais.\n",
    "QQ: Número de lags sazonais para o componente de média móvel.\n",
    "mm: Período sazonal (por exemplo, 12 para sazonalidade anual em dados mensais)."
   ]
  },
  {
   "cell_type": "code",
   "execution_count": null,
   "metadata": {},
   "outputs": [],
   "source": []
  }
 ],
 "metadata": {
  "kernelspec": {
   "display_name": "base",
   "language": "python",
   "name": "python3"
  },
  "language_info": {
   "name": "python",
   "version": "3.11.5"
  }
 },
 "nbformat": 4,
 "nbformat_minor": 2
}
