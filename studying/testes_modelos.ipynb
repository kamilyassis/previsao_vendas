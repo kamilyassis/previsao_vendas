{
 "cells": [
  {
   "cell_type": "code",
   "execution_count": 270,
   "metadata": {},
   "outputs": [],
   "source": [
    "import pandas as pd\n",
    "import numpy as np\n",
    "from statsmodels.tsa.arima.model import ARIMA\n",
    "from pmdarima import auto_arima\n",
    "from statsmodels.tsa.holtwinters import SimpleExpSmoothing, ExponentialSmoothing\n",
    "import matplotlib.pyplot as plt\n",
    "from sklearn.metrics import mean_squared_error, mean_absolute_percentage_error, r2_score"
   ]
  },
  {
   "cell_type": "code",
   "execution_count": 271,
   "metadata": {},
   "outputs": [
    {
     "data": {
      "text/html": [
       "<div>\n",
       "<style scoped>\n",
       "    .dataframe tbody tr th:only-of-type {\n",
       "        vertical-align: middle;\n",
       "    }\n",
       "\n",
       "    .dataframe tbody tr th {\n",
       "        vertical-align: top;\n",
       "    }\n",
       "\n",
       "    .dataframe thead th {\n",
       "        text-align: right;\n",
       "    }\n",
       "</style>\n",
       "<table border=\"1\" class=\"dataframe\">\n",
       "  <thead>\n",
       "    <tr style=\"text-align: right;\">\n",
       "      <th></th>\n",
       "      <th>id</th>\n",
       "      <th>store_nbr</th>\n",
       "      <th>family</th>\n",
       "      <th>quantity</th>\n",
       "      <th>onpromotion</th>\n",
       "    </tr>\n",
       "    <tr>\n",
       "      <th>date</th>\n",
       "      <th></th>\n",
       "      <th></th>\n",
       "      <th></th>\n",
       "      <th></th>\n",
       "      <th></th>\n",
       "    </tr>\n",
       "  </thead>\n",
       "  <tbody>\n",
       "    <tr>\n",
       "      <th>2013-01-02</th>\n",
       "      <td>3036</td>\n",
       "      <td>44</td>\n",
       "      <td>AUTOMOTIVE</td>\n",
       "      <td>16.000</td>\n",
       "      <td>0</td>\n",
       "    </tr>\n",
       "    <tr>\n",
       "      <th>2013-01-02</th>\n",
       "      <td>3068</td>\n",
       "      <td>44</td>\n",
       "      <td>SEAFOOD</td>\n",
       "      <td>150.367</td>\n",
       "      <td>0</td>\n",
       "    </tr>\n",
       "    <tr>\n",
       "      <th>2013-01-02</th>\n",
       "      <td>3065</td>\n",
       "      <td>44</td>\n",
       "      <td>PREPARED FOODS</td>\n",
       "      <td>616.862</td>\n",
       "      <td>0</td>\n",
       "    </tr>\n",
       "    <tr>\n",
       "      <th>2013-01-02</th>\n",
       "      <td>3064</td>\n",
       "      <td>44</td>\n",
       "      <td>POULTRY</td>\n",
       "      <td>1034.765</td>\n",
       "      <td>0</td>\n",
       "    </tr>\n",
       "    <tr>\n",
       "      <th>2013-01-02</th>\n",
       "      <td>3061</td>\n",
       "      <td>44</td>\n",
       "      <td>PERSONAL CARE</td>\n",
       "      <td>716.000</td>\n",
       "      <td>0</td>\n",
       "    </tr>\n",
       "  </tbody>\n",
       "</table>\n",
       "</div>"
      ],
      "text/plain": [
       "              id  store_nbr          family  quantity  onpromotion\n",
       "date                                                              \n",
       "2013-01-02  3036         44      AUTOMOTIVE    16.000            0\n",
       "2013-01-02  3068         44         SEAFOOD   150.367            0\n",
       "2013-01-02  3065         44  PREPARED FOODS   616.862            0\n",
       "2013-01-02  3064         44         POULTRY  1034.765            0\n",
       "2013-01-02  3061         44   PERSONAL CARE   716.000            0"
      ]
     },
     "execution_count": 271,
     "metadata": {},
     "output_type": "execute_result"
    }
   ],
   "source": [
    "#path_without_outliers = 'dataset/corporacion-favorit/'\n",
    "df = pd.read_csv('dataset/corporacion-favorit/store44.csv', index_col='date', parse_dates=True)\n",
    "#df_wo_groc = pd.read_csv(path_without_outliers + 'GROCERYI_sem_outliers.csv', index_col='date', parse_dates=True)\n",
    "df.head()\n"
   ]
  },
  {
   "cell_type": "code",
   "execution_count": 272,
   "metadata": {},
   "outputs": [
    {
     "data": {
      "text/plain": [
       "id              1943641\n",
       "store_nbr            44\n",
       "family         CLEANING\n",
       "quantity         2840.0\n",
       "onpromotion           4\n",
       "Name: 2015-12-30 00:00:00, dtype: object"
      ]
     },
     "execution_count": 272,
     "metadata": {},
     "output_type": "execute_result"
    }
   ],
   "source": [
    "min(df.index)\n",
    "max(df.index)\n",
    "i = int(0.6 * len(df.index))\n",
    "df.iloc[i]\n"
   ]
  },
  {
   "cell_type": "markdown",
   "metadata": {},
   "source": [
    "# Chamando os modelos\n",
    "\n",
    "- ARIMA\n",
    "- Suavização exponencial"
   ]
  },
  {
   "cell_type": "code",
   "execution_count": null,
   "metadata": {},
   "outputs": [],
   "source": [
    "# para calcular métricas\n",
    "\n",
    "def metricas(y_true, y_pred):\n",
    "\n",
    "    mse = mean_squared_error(y_true, y_pred)\n",
    "    rmse = np.sqrt(mse)\n",
    "    mape = mean_absolute_percentage_error(y_true, y_pred)\n",
    "    r2 = r2_score(y_true, y_pred)\n",
    "\n",
    "    print(f'MSE: {mse}')\n",
    "    print(f'RMSE: {rmse}')\n",
    "    print(f'MAPE: {mape}')\n",
    "    print(f'R2: {r2}')\n",
    "\n",
    "    return mse, rmse, mape, r2"
   ]
  },
  {
   "cell_type": "code",
   "execution_count": 273,
   "metadata": {},
   "outputs": [],
   "source": [
    "import pandas as pd\n",
    "import numpy as np\n",
    "from statsmodels.graphics.tsaplots import plot_acf, plot_pacf\n",
    "from statsmodels.tsa.stattools import adfuller\n",
    "import matplotlib.pyplot as plt\n"
   ]
  },
  {
   "cell_type": "code",
   "execution_count": 288,
   "metadata": {},
   "outputs": [],
   "source": [
    "def calling_arima(df,family, order=(1,1,1)):\n",
    "    fdf = df[df['family'] == family].copy()\n",
    "    fdf = fdf.asfreq('ME')\n",
    "    \n",
    "    #X = fdf.drop(columns={'id','store_nbr','family'})\n",
    "    y = pd.to_numeric(fdf['quantity'], errors='coerce')\n",
    "\n",
    "    #X_train = X[X.index < '2016-10-24']\n",
    "    #X_test = X[X.index >= '2016-10-24']\n",
    "    y_train = y[y.index < '2016-10-24']\n",
    "    y_test = y[y.index >= '2016-10-24']\n",
    "\n",
    "    model = ARIMA(y_train, order=order)\n",
    "    model_fit = model.fit()\n",
    "\n",
    "    # Make predictions\n",
    "    predictions = model_fit.forecast(steps=len(y_test))\n",
    "\n",
    "\n",
    "    return y_test, predictions\n",
    "\n",
    "\n",
    "def compare_arima(df, y_test, predictions):\n",
    "\n",
    "    df_compare = pd.DataFrame({\n",
    "    'y_test': y_test.values,\n",
    "    'y_pred': predictions.values\n",
    "        }, index=y_test.index)\n",
    "    \n",
    "    plt.plot(df.index, df['quantity'], label='Dados Reais', color='blue')\n",
    "    plt.plot(df_compare.index, df_compare['y_test'], label='Dados Reais', color='blue')\n",
    "    plt.plot(df_compare.index, df_compare['y_pred'], label='Previsões', color='red', linestyle='--')"
   ]
  },
  {
   "cell_type": "code",
   "execution_count": 281,
   "metadata": {},
   "outputs": [
    {
     "name": "stdout",
     "output_type": "stream",
     "text": [
      "MSE: 6680530.038703894\n",
      "RMSE: 2584.672133695857\n",
      "MAPE: 0.1421538271703079\n",
      "R²: -0.9619374491925257\n"
     ]
    }
   ],
   "source": [
    "family = 'GROCERY I'\n",
    "# produtos_mv[0]\n",
    "y_test, y_pred = calling_arima(df, family)\n",
    "compare_arima(df, y_test, y_pred)\n"
   ]
  },
  {
   "cell_type": "code",
   "execution_count": 282,
   "metadata": {},
   "outputs": [
    {
     "data": {
      "text/plain": [
       "array([ 9450.01432121, 10428.63515307,  9081.66688071,  9530.73359974,\n",
       "        9932.93767434,  9238.50479795,  9527.22467196,  9678.38539434,\n",
       "        9326.27534565])"
      ]
     },
     "execution_count": 282,
     "metadata": {},
     "output_type": "execute_result"
    }
   ],
   "source": [
    "predictions.values"
   ]
  },
  {
   "cell_type": "code",
   "execution_count": 283,
   "metadata": {},
   "outputs": [],
   "source": [
    "df_compare = pd.DataFrame({\n",
    "    'y_test': y_test.values,\n",
    "    'y_pred': predictions.values\n",
    "}, index=y_test.index)"
   ]
  },
  {
   "cell_type": "code",
   "execution_count": 284,
   "metadata": {},
   "outputs": [
    {
     "data": {
      "text/html": [
       "<div>\n",
       "<style scoped>\n",
       "    .dataframe tbody tr th:only-of-type {\n",
       "        vertical-align: middle;\n",
       "    }\n",
       "\n",
       "    .dataframe tbody tr th {\n",
       "        vertical-align: top;\n",
       "    }\n",
       "\n",
       "    .dataframe thead th {\n",
       "        text-align: right;\n",
       "    }\n",
       "</style>\n",
       "<table border=\"1\" class=\"dataframe\">\n",
       "  <thead>\n",
       "    <tr style=\"text-align: right;\">\n",
       "      <th></th>\n",
       "      <th>y_test</th>\n",
       "      <th>y_pred</th>\n",
       "    </tr>\n",
       "    <tr>\n",
       "      <th>date</th>\n",
       "      <th></th>\n",
       "      <th></th>\n",
       "    </tr>\n",
       "  </thead>\n",
       "  <tbody>\n",
       "    <tr>\n",
       "      <th>2016-11-30</th>\n",
       "      <td>11083.0</td>\n",
       "      <td>9450.014321</td>\n",
       "    </tr>\n",
       "    <tr>\n",
       "      <th>2016-12-31</th>\n",
       "      <td>11226.0</td>\n",
       "      <td>10428.635153</td>\n",
       "    </tr>\n",
       "    <tr>\n",
       "      <th>2017-01-31</th>\n",
       "      <td>8936.0</td>\n",
       "      <td>9081.666881</td>\n",
       "    </tr>\n",
       "    <tr>\n",
       "      <th>2017-02-28</th>\n",
       "      <td>14400.0</td>\n",
       "      <td>9530.733600</td>\n",
       "    </tr>\n",
       "    <tr>\n",
       "      <th>2017-03-31</th>\n",
       "      <td>12173.0</td>\n",
       "      <td>9932.937674</td>\n",
       "    </tr>\n",
       "    <tr>\n",
       "      <th>2017-04-30</th>\n",
       "      <td>14442.0</td>\n",
       "      <td>9238.504798</td>\n",
       "    </tr>\n",
       "    <tr>\n",
       "      <th>2017-05-31</th>\n",
       "      <td>9829.0</td>\n",
       "      <td>9527.224672</td>\n",
       "    </tr>\n",
       "    <tr>\n",
       "      <th>2017-06-30</th>\n",
       "      <td>10411.0</td>\n",
       "      <td>9678.385394</td>\n",
       "    </tr>\n",
       "    <tr>\n",
       "      <th>2017-07-31</th>\n",
       "      <td>9934.0</td>\n",
       "      <td>9326.275346</td>\n",
       "    </tr>\n",
       "  </tbody>\n",
       "</table>\n",
       "</div>"
      ],
      "text/plain": [
       "             y_test        y_pred\n",
       "date                             \n",
       "2016-11-30  11083.0   9450.014321\n",
       "2016-12-31  11226.0  10428.635153\n",
       "2017-01-31   8936.0   9081.666881\n",
       "2017-02-28  14400.0   9530.733600\n",
       "2017-03-31  12173.0   9932.937674\n",
       "2017-04-30  14442.0   9238.504798\n",
       "2017-05-31   9829.0   9527.224672\n",
       "2017-06-30  10411.0   9678.385394\n",
       "2017-07-31   9934.0   9326.275346"
      ]
     },
     "execution_count": 284,
     "metadata": {},
     "output_type": "execute_result"
    }
   ],
   "source": [
    "df_compare "
   ]
  },
  {
   "cell_type": "code",
   "execution_count": 285,
   "metadata": {},
   "outputs": [
    {
     "data": {
      "text/html": [
       "<div>\n",
       "<style scoped>\n",
       "    .dataframe tbody tr th:only-of-type {\n",
       "        vertical-align: middle;\n",
       "    }\n",
       "\n",
       "    .dataframe tbody tr th {\n",
       "        vertical-align: top;\n",
       "    }\n",
       "\n",
       "    .dataframe thead th {\n",
       "        text-align: right;\n",
       "    }\n",
       "</style>\n",
       "<table border=\"1\" class=\"dataframe\">\n",
       "  <thead>\n",
       "    <tr style=\"text-align: right;\">\n",
       "      <th></th>\n",
       "      <th>id</th>\n",
       "      <th>store_nbr</th>\n",
       "      <th>family</th>\n",
       "      <th>quantity</th>\n",
       "      <th>onpromotion</th>\n",
       "    </tr>\n",
       "    <tr>\n",
       "      <th>date</th>\n",
       "      <th></th>\n",
       "      <th></th>\n",
       "      <th></th>\n",
       "      <th></th>\n",
       "      <th></th>\n",
       "    </tr>\n",
       "  </thead>\n",
       "  <tbody>\n",
       "    <tr>\n",
       "      <th>2013-01-02</th>\n",
       "      <td>3036</td>\n",
       "      <td>44</td>\n",
       "      <td>AUTOMOTIVE</td>\n",
       "      <td>16.000</td>\n",
       "      <td>0</td>\n",
       "    </tr>\n",
       "    <tr>\n",
       "      <th>2013-01-02</th>\n",
       "      <td>3068</td>\n",
       "      <td>44</td>\n",
       "      <td>SEAFOOD</td>\n",
       "      <td>150.367</td>\n",
       "      <td>0</td>\n",
       "    </tr>\n",
       "    <tr>\n",
       "      <th>2013-01-02</th>\n",
       "      <td>3065</td>\n",
       "      <td>44</td>\n",
       "      <td>PREPARED FOODS</td>\n",
       "      <td>616.862</td>\n",
       "      <td>0</td>\n",
       "    </tr>\n",
       "    <tr>\n",
       "      <th>2013-01-02</th>\n",
       "      <td>3064</td>\n",
       "      <td>44</td>\n",
       "      <td>POULTRY</td>\n",
       "      <td>1034.765</td>\n",
       "      <td>0</td>\n",
       "    </tr>\n",
       "    <tr>\n",
       "      <th>2013-01-02</th>\n",
       "      <td>3061</td>\n",
       "      <td>44</td>\n",
       "      <td>PERSONAL CARE</td>\n",
       "      <td>716.000</td>\n",
       "      <td>0</td>\n",
       "    </tr>\n",
       "    <tr>\n",
       "      <th>...</th>\n",
       "      <td>...</td>\n",
       "      <td>...</td>\n",
       "      <td>...</td>\n",
       "      <td>...</td>\n",
       "      <td>...</td>\n",
       "    </tr>\n",
       "    <tr>\n",
       "      <th>2017-08-15</th>\n",
       "      <td>3000362</td>\n",
       "      <td>44</td>\n",
       "      <td>BEAUTY</td>\n",
       "      <td>9.000</td>\n",
       "      <td>1</td>\n",
       "    </tr>\n",
       "    <tr>\n",
       "      <th>2017-08-15</th>\n",
       "      <td>3000360</td>\n",
       "      <td>44</td>\n",
       "      <td>AUTOMOTIVE</td>\n",
       "      <td>15.000</td>\n",
       "      <td>0</td>\n",
       "    </tr>\n",
       "    <tr>\n",
       "      <th>2017-08-15</th>\n",
       "      <td>3000391</td>\n",
       "      <td>44</td>\n",
       "      <td>SCHOOL AND OFFICE SUPPLIES</td>\n",
       "      <td>345.000</td>\n",
       "      <td>12</td>\n",
       "    </tr>\n",
       "    <tr>\n",
       "      <th>2017-08-15</th>\n",
       "      <td>3000375</td>\n",
       "      <td>44</td>\n",
       "      <td>HOME AND KITCHEN I</td>\n",
       "      <td>136.000</td>\n",
       "      <td>1</td>\n",
       "    </tr>\n",
       "    <tr>\n",
       "      <th>2017-08-15</th>\n",
       "      <td>3000392</td>\n",
       "      <td>44</td>\n",
       "      <td>SEAFOOD</td>\n",
       "      <td>80.240</td>\n",
       "      <td>0</td>\n",
       "    </tr>\n",
       "  </tbody>\n",
       "</table>\n",
       "<p>45598 rows × 5 columns</p>\n",
       "</div>"
      ],
      "text/plain": [
       "                 id  store_nbr                      family  quantity  \\\n",
       "date                                                                   \n",
       "2013-01-02     3036         44                  AUTOMOTIVE    16.000   \n",
       "2013-01-02     3068         44                     SEAFOOD   150.367   \n",
       "2013-01-02     3065         44              PREPARED FOODS   616.862   \n",
       "2013-01-02     3064         44                     POULTRY  1034.765   \n",
       "2013-01-02     3061         44               PERSONAL CARE   716.000   \n",
       "...             ...        ...                         ...       ...   \n",
       "2017-08-15  3000362         44                      BEAUTY     9.000   \n",
       "2017-08-15  3000360         44                  AUTOMOTIVE    15.000   \n",
       "2017-08-15  3000391         44  SCHOOL AND OFFICE SUPPLIES   345.000   \n",
       "2017-08-15  3000375         44          HOME AND KITCHEN I   136.000   \n",
       "2017-08-15  3000392         44                     SEAFOOD    80.240   \n",
       "\n",
       "            onpromotion  \n",
       "date                     \n",
       "2013-01-02            0  \n",
       "2013-01-02            0  \n",
       "2013-01-02            0  \n",
       "2013-01-02            0  \n",
       "2013-01-02            0  \n",
       "...                 ...  \n",
       "2017-08-15            1  \n",
       "2017-08-15            0  \n",
       "2017-08-15           12  \n",
       "2017-08-15            1  \n",
       "2017-08-15            0  \n",
       "\n",
       "[45598 rows x 5 columns]"
      ]
     },
     "execution_count": 285,
     "metadata": {},
     "output_type": "execute_result"
    }
   ],
   "source": [
    "df"
   ]
  },
  {
   "cell_type": "code",
   "execution_count": 287,
   "metadata": {},
   "outputs": [
    {
     "data": {
      "text/plain": [
       "[<matplotlib.lines.Line2D at 0x7372ba942a10>]"
      ]
     },
     "execution_count": 287,
     "metadata": {},
     "output_type": "execute_result"
    },
    {
     "data": {
      "image/png": "[encoded data removed]",
      "text/plain": [
       "<Figure size 640x480 with 1 Axes>"
      ]
     },
     "metadata": {},
     "output_type": "display_data"
    }
   ],
   "source": [
    "\n",
    "plt.plot(df_compare.index, df_compare['y_test'], label='Dados Reais', color='blue')\n",
    "\n",
    "# Plotar as previsões\n",
    "plt.plot(df_compare.index, df_compare['y_pred'], label='Previsões', color='red', linestyle='--')"
   ]
  },
  {
   "cell_type": "markdown",
   "metadata": {},
   "source": [
    "Prophet (exemplo)"
   ]
  },
  {
   "cell_type": "code",
   "execution_count": null,
   "metadata": {},
   "outputs": [],
   "source": [
    "from prophet import Prophet"
   ]
  },
  {
   "cell_type": "code",
   "execution_count": null,
   "metadata": {},
   "outputs": [
    {
     "name": "stdout",
     "output_type": "stream",
     "text": [
      "Requirement already satisfied: prophet in /home/adriel/anaconda3/lib/python3.11/site-packages (1.1.5)\n",
      "Requirement already satisfied: cmdstanpy>=1.0.4 in /home/adriel/anaconda3/lib/python3.11/site-packages (from prophet) (1.2.4)\n",
      "Requirement already satisfied: numpy>=1.15.4 in /home/adriel/anaconda3/lib/python3.11/site-packages (from prophet) (1.26.4)\n",
      "Requirement already satisfied: matplotlib>=2.0.0 in /home/adriel/anaconda3/lib/python3.11/site-packages (from prophet) (3.8.4)\n",
      "Requirement already satisfied: pandas>=1.0.4 in /home/adriel/anaconda3/lib/python3.11/site-packages (from prophet) (2.2.2)\n",
      "Requirement already satisfied: holidays>=0.25 in /home/adriel/anaconda3/lib/python3.11/site-packages (from prophet) (0.54)\n",
      "Requirement already satisfied: tqdm>=4.36.1 in /home/adriel/anaconda3/lib/python3.11/site-packages (from prophet) (4.66.4)\n",
      "Requirement already satisfied: importlib-resources in /home/adriel/anaconda3/lib/python3.11/site-packages (from prophet) (6.4.0)\n",
      "Requirement already satisfied: stanio<2.0.0,>=0.4.0 in /home/adriel/anaconda3/lib/python3.11/site-packages (from cmdstanpy>=1.0.4->prophet) (0.5.1)\n",
      "Requirement already satisfied: python-dateutil in /home/adriel/anaconda3/lib/python3.11/site-packages (from holidays>=0.25->prophet) (2.9.0.post0)\n",
      "Requirement already satisfied: contourpy>=1.0.1 in /home/adriel/anaconda3/lib/python3.11/site-packages (from matplotlib>=2.0.0->prophet) (1.2.0)\n",
      "Requirement already satisfied: cycler>=0.10 in /home/adriel/anaconda3/lib/python3.11/site-packages (from matplotlib>=2.0.0->prophet) (0.11.0)\n",
      "Requirement already satisfied: fonttools>=4.22.0 in /home/adriel/anaconda3/lib/python3.11/site-packages (from matplotlib>=2.0.0->prophet) (4.51.0)\n",
      "Requirement already satisfied: kiwisolver>=1.3.1 in /home/adriel/anaconda3/lib/python3.11/site-packages (from matplotlib>=2.0.0->prophet) (1.4.4)\n",
      "Requirement already satisfied: packaging>=20.0 in /home/adriel/anaconda3/lib/python3.11/site-packages (from matplotlib>=2.0.0->prophet) (24.1)\n",
      "Requirement already satisfied: pillow>=8 in /home/adriel/anaconda3/lib/python3.11/site-packages (from matplotlib>=2.0.0->prophet) (10.4.0)\n",
      "Requirement already satisfied: pyparsing>=2.3.1 in /home/adriel/anaconda3/lib/python3.11/site-packages (from matplotlib>=2.0.0->prophet) (3.0.9)\n",
      "Requirement already satisfied: pytz>=2020.1 in /home/adriel/anaconda3/lib/python3.11/site-packages (from pandas>=1.0.4->prophet) (2024.1)\n",
      "Requirement already satisfied: tzdata>=2022.7 in /home/adriel/anaconda3/lib/python3.11/site-packages (from pandas>=1.0.4->prophet) (2023.3)\n",
      "Requirement already satisfied: six>=1.5 in /home/adriel/anaconda3/lib/python3.11/site-packages (from python-dateutil->holidays>=0.25->prophet) (1.16.0)\n"
     ]
    },
    {
     "ename": "ValueError",
     "evalue": "Dataframe must have columns \"ds\" and \"y\" with the dates and values respectively.",
     "output_type": "error",
     "traceback": [
      "\u001b[0;31m---------------------------------------------------------------------------\u001b[0m",
      "\u001b[0;31mValueError\u001b[0m                                Traceback (most recent call last)",
      "Cell \u001b[0;32mIn[262], line 14\u001b[0m\n\u001b[1;32m     12\u001b[0m \u001b[38;5;66;03m# Criar e ajustar o modelo Prophet\u001b[39;00m\n\u001b[1;32m     13\u001b[0m model \u001b[38;5;241m=\u001b[39m Prophet()\n\u001b[0;32m---> 14\u001b[0m model\u001b[38;5;241m.\u001b[39mfit(df)\n\u001b[1;32m     16\u001b[0m \u001b[38;5;66;03m# Criar um DataFrame com as datas futuras\u001b[39;00m\n\u001b[1;32m     17\u001b[0m future \u001b[38;5;241m=\u001b[39m model\u001b[38;5;241m.\u001b[39mmake_future_dataframe(periods\u001b[38;5;241m=\u001b[39m\u001b[38;5;241m12\u001b[39m, freq \u001b[38;5;241m=\u001b[39m \u001b[38;5;124m'\u001b[39m\u001b[38;5;124mM\u001b[39m\u001b[38;5;124m'\u001b[39m)  \u001b[38;5;66;03m# Prever 30 dias no futuro\u001b[39;00m\n",
      "File \u001b[0;32m~/anaconda3/lib/python3.11/site-packages/prophet/forecaster.py:1217\u001b[0m, in \u001b[0;36mProphet.fit\u001b[0;34m(self, df, **kwargs)\u001b[0m\n\u001b[1;32m   1213\u001b[0m \u001b[38;5;28;01mif\u001b[39;00m \u001b[38;5;28mself\u001b[39m\u001b[38;5;241m.\u001b[39mhistory \u001b[38;5;129;01mis\u001b[39;00m \u001b[38;5;129;01mnot\u001b[39;00m \u001b[38;5;28;01mNone\u001b[39;00m:\n\u001b[1;32m   1214\u001b[0m     \u001b[38;5;28;01mraise\u001b[39;00m \u001b[38;5;167;01mException\u001b[39;00m(\u001b[38;5;124m'\u001b[39m\u001b[38;5;124mProphet object can only be fit once. \u001b[39m\u001b[38;5;124m'\u001b[39m\n\u001b[1;32m   1215\u001b[0m                     \u001b[38;5;124m'\u001b[39m\u001b[38;5;124mInstantiate a new object.\u001b[39m\u001b[38;5;124m'\u001b[39m)\n\u001b[0;32m-> 1217\u001b[0m model_inputs \u001b[38;5;241m=\u001b[39m \u001b[38;5;28mself\u001b[39m\u001b[38;5;241m.\u001b[39mpreprocess(df, \u001b[38;5;241m*\u001b[39m\u001b[38;5;241m*\u001b[39mkwargs)\n\u001b[1;32m   1218\u001b[0m initial_params \u001b[38;5;241m=\u001b[39m \u001b[38;5;28mself\u001b[39m\u001b[38;5;241m.\u001b[39mcalculate_initial_params(model_inputs\u001b[38;5;241m.\u001b[39mK)\n\u001b[1;32m   1220\u001b[0m dat \u001b[38;5;241m=\u001b[39m dataclasses\u001b[38;5;241m.\u001b[39masdict(model_inputs)\n",
      "File \u001b[0;32m~/anaconda3/lib/python3.11/site-packages/prophet/forecaster.py:1126\u001b[0m, in \u001b[0;36mProphet.preprocess\u001b[0;34m(self, df, **kwargs)\u001b[0m\n\u001b[1;32m   1119\u001b[0m \u001b[38;5;250m\u001b[39m\u001b[38;5;124;03m\"\"\"\u001b[39;00m\n\u001b[1;32m   1120\u001b[0m \u001b[38;5;124;03mReformats historical data, standardizes y and extra regressors, sets seasonalities and changepoints.\u001b[39;00m\n\u001b[1;32m   1121\u001b[0m \n\u001b[1;32m   1122\u001b[0m \u001b[38;5;124;03mSaves the preprocessed data to the instantiated object, and also returns the relevant components\u001b[39;00m\n\u001b[1;32m   1123\u001b[0m \u001b[38;5;124;03mas a ModelInputData object.\u001b[39;00m\n\u001b[1;32m   1124\u001b[0m \u001b[38;5;124;03m\"\"\"\u001b[39;00m\n\u001b[1;32m   1125\u001b[0m \u001b[38;5;28;01mif\u001b[39;00m (\u001b[38;5;124m'\u001b[39m\u001b[38;5;124mds\u001b[39m\u001b[38;5;124m'\u001b[39m \u001b[38;5;129;01mnot\u001b[39;00m \u001b[38;5;129;01min\u001b[39;00m df) \u001b[38;5;129;01mor\u001b[39;00m (\u001b[38;5;124m'\u001b[39m\u001b[38;5;124my\u001b[39m\u001b[38;5;124m'\u001b[39m \u001b[38;5;129;01mnot\u001b[39;00m \u001b[38;5;129;01min\u001b[39;00m df):\n\u001b[0;32m-> 1126\u001b[0m     \u001b[38;5;28;01mraise\u001b[39;00m \u001b[38;5;167;01mValueError\u001b[39;00m(\n\u001b[1;32m   1127\u001b[0m         \u001b[38;5;124m'\u001b[39m\u001b[38;5;124mDataframe must have columns \u001b[39m\u001b[38;5;124m\"\u001b[39m\u001b[38;5;124mds\u001b[39m\u001b[38;5;124m\"\u001b[39m\u001b[38;5;124m and \u001b[39m\u001b[38;5;124m\"\u001b[39m\u001b[38;5;124my\u001b[39m\u001b[38;5;124m\"\u001b[39m\u001b[38;5;124m with the dates and \u001b[39m\u001b[38;5;124m'\u001b[39m\n\u001b[1;32m   1128\u001b[0m         \u001b[38;5;124m'\u001b[39m\u001b[38;5;124mvalues respectively.\u001b[39m\u001b[38;5;124m'\u001b[39m\n\u001b[1;32m   1129\u001b[0m     )\n\u001b[1;32m   1130\u001b[0m history \u001b[38;5;241m=\u001b[39m df[df[\u001b[38;5;124m'\u001b[39m\u001b[38;5;124my\u001b[39m\u001b[38;5;124m'\u001b[39m]\u001b[38;5;241m.\u001b[39mnotnull()]\u001b[38;5;241m.\u001b[39mcopy()\n\u001b[1;32m   1131\u001b[0m \u001b[38;5;28;01mif\u001b[39;00m history\u001b[38;5;241m.\u001b[39mshape[\u001b[38;5;241m0\u001b[39m] \u001b[38;5;241m<\u001b[39m \u001b[38;5;241m2\u001b[39m:\n",
      "\u001b[0;31mValueError\u001b[0m: Dataframe must have columns \"ds\" and \"y\" with the dates and values respectively."
     ]
    }
   ],
   "source": [
    "# Instalar o Prophet\n",
    "!pip install prophet\n",
    "\n",
    "# Importar bibliotecas\n",
    "import pandas as pd\n",
    "from prophet import Prophet\n",
    "import matplotlib.pyplot as plt\n",
    "df = df.rename(columns = {\"date\":\"ds\",\"quantity\":\"y\"})\n",
    "#df = pd.DataFrame(data)\n",
    "df = df[df['family'] == 'GROCERY I']\n",
    "\n",
    "# Criar e ajustar o modelo Prophet\n",
    "model = Prophet()\n",
    "model.fit(df)\n",
    "\n",
    "# Criar um DataFrame com as datas futuras\n",
    "future = model.make_future_dataframe(periods=12, freq = 'M')  # Prever 30 dias no futuro\n",
    "\n",
    "# Fazer previsões\n",
    "forecast = model.predict(future)\n",
    "\n",
    "# Plotar os resultados\n",
    "fig = model.plot(forecast)\n",
    "plt.show()"
   ]
  },
  {
   "cell_type": "code",
   "execution_count": null,
   "metadata": {},
   "outputs": [
    {
     "data": {
      "text/html": [
       "<div>\n",
       "<style scoped>\n",
       "    .dataframe tbody tr th:only-of-type {\n",
       "        vertical-align: middle;\n",
       "    }\n",
       "\n",
       "    .dataframe tbody tr th {\n",
       "        vertical-align: top;\n",
       "    }\n",
       "\n",
       "    .dataframe thead th {\n",
       "        text-align: right;\n",
       "    }\n",
       "</style>\n",
       "<table border=\"1\" class=\"dataframe\">\n",
       "  <thead>\n",
       "    <tr style=\"text-align: right;\">\n",
       "      <th></th>\n",
       "      <th>id</th>\n",
       "      <th>store_nbr</th>\n",
       "      <th>family</th>\n",
       "      <th>quantity</th>\n",
       "      <th>onpromotion</th>\n",
       "    </tr>\n",
       "    <tr>\n",
       "      <th>date</th>\n",
       "      <th></th>\n",
       "      <th></th>\n",
       "      <th></th>\n",
       "      <th></th>\n",
       "      <th></th>\n",
       "    </tr>\n",
       "  </thead>\n",
       "  <tbody>\n",
       "    <tr>\n",
       "      <th>2013-01-02</th>\n",
       "      <td>3036</td>\n",
       "      <td>44</td>\n",
       "      <td>AUTOMOTIVE</td>\n",
       "      <td>16.000</td>\n",
       "      <td>0</td>\n",
       "    </tr>\n",
       "    <tr>\n",
       "      <th>2013-01-02</th>\n",
       "      <td>3068</td>\n",
       "      <td>44</td>\n",
       "      <td>SEAFOOD</td>\n",
       "      <td>150.367</td>\n",
       "      <td>0</td>\n",
       "    </tr>\n",
       "    <tr>\n",
       "      <th>2013-01-02</th>\n",
       "      <td>3065</td>\n",
       "      <td>44</td>\n",
       "      <td>PREPARED FOODS</td>\n",
       "      <td>616.862</td>\n",
       "      <td>0</td>\n",
       "    </tr>\n",
       "    <tr>\n",
       "      <th>2013-01-02</th>\n",
       "      <td>3064</td>\n",
       "      <td>44</td>\n",
       "      <td>POULTRY</td>\n",
       "      <td>1034.765</td>\n",
       "      <td>0</td>\n",
       "    </tr>\n",
       "    <tr>\n",
       "      <th>2013-01-02</th>\n",
       "      <td>3061</td>\n",
       "      <td>44</td>\n",
       "      <td>PERSONAL CARE</td>\n",
       "      <td>716.000</td>\n",
       "      <td>0</td>\n",
       "    </tr>\n",
       "    <tr>\n",
       "      <th>...</th>\n",
       "      <td>...</td>\n",
       "      <td>...</td>\n",
       "      <td>...</td>\n",
       "      <td>...</td>\n",
       "      <td>...</td>\n",
       "    </tr>\n",
       "    <tr>\n",
       "      <th>2017-08-15</th>\n",
       "      <td>3000362</td>\n",
       "      <td>44</td>\n",
       "      <td>BEAUTY</td>\n",
       "      <td>9.000</td>\n",
       "      <td>1</td>\n",
       "    </tr>\n",
       "    <tr>\n",
       "      <th>2017-08-15</th>\n",
       "      <td>3000360</td>\n",
       "      <td>44</td>\n",
       "      <td>AUTOMOTIVE</td>\n",
       "      <td>15.000</td>\n",
       "      <td>0</td>\n",
       "    </tr>\n",
       "    <tr>\n",
       "      <th>2017-08-15</th>\n",
       "      <td>3000391</td>\n",
       "      <td>44</td>\n",
       "      <td>SCHOOL AND OFFICE SUPPLIES</td>\n",
       "      <td>345.000</td>\n",
       "      <td>12</td>\n",
       "    </tr>\n",
       "    <tr>\n",
       "      <th>2017-08-15</th>\n",
       "      <td>3000375</td>\n",
       "      <td>44</td>\n",
       "      <td>HOME AND KITCHEN I</td>\n",
       "      <td>136.000</td>\n",
       "      <td>1</td>\n",
       "    </tr>\n",
       "    <tr>\n",
       "      <th>2017-08-15</th>\n",
       "      <td>3000392</td>\n",
       "      <td>44</td>\n",
       "      <td>SEAFOOD</td>\n",
       "      <td>80.240</td>\n",
       "      <td>0</td>\n",
       "    </tr>\n",
       "  </tbody>\n",
       "</table>\n",
       "<p>45598 rows × 5 columns</p>\n",
       "</div>"
      ],
      "text/plain": [
       "                 id  store_nbr                      family  quantity  \\\n",
       "date                                                                   \n",
       "2013-01-02     3036         44                  AUTOMOTIVE    16.000   \n",
       "2013-01-02     3068         44                     SEAFOOD   150.367   \n",
       "2013-01-02     3065         44              PREPARED FOODS   616.862   \n",
       "2013-01-02     3064         44                     POULTRY  1034.765   \n",
       "2013-01-02     3061         44               PERSONAL CARE   716.000   \n",
       "...             ...        ...                         ...       ...   \n",
       "2017-08-15  3000362         44                      BEAUTY     9.000   \n",
       "2017-08-15  3000360         44                  AUTOMOTIVE    15.000   \n",
       "2017-08-15  3000391         44  SCHOOL AND OFFICE SUPPLIES   345.000   \n",
       "2017-08-15  3000375         44          HOME AND KITCHEN I   136.000   \n",
       "2017-08-15  3000392         44                     SEAFOOD    80.240   \n",
       "\n",
       "            onpromotion  \n",
       "date                     \n",
       "2013-01-02            0  \n",
       "2013-01-02            0  \n",
       "2013-01-02            0  \n",
       "2013-01-02            0  \n",
       "2013-01-02            0  \n",
       "...                 ...  \n",
       "2017-08-15            1  \n",
       "2017-08-15            0  \n",
       "2017-08-15           12  \n",
       "2017-08-15            1  \n",
       "2017-08-15            0  \n",
       "\n",
       "[45598 rows x 5 columns]"
      ]
     },
     "execution_count": 241,
     "metadata": {},
     "output_type": "execute_result"
    }
   ],
   "source": [
    "df"
   ]
  },
  {
   "cell_type": "markdown",
   "metadata": {},
   "source": [
    "Suavização exponencial"
   ]
  },
  {
   "cell_type": "code",
   "execution_count": null,
   "metadata": {},
   "outputs": [
    {
     "name": "stderr",
     "output_type": "stream",
     "text": [
      "/home/adriel/anaconda3/lib/python3.11/site-packages/statsmodels/tsa/base/tsa_model.py:473: ValueWarning: No frequency information was provided, so inferred frequency MS will be used.\n",
      "  self._init_dates(dates, freq)\n",
      "/home/adriel/anaconda3/lib/python3.11/site-packages/statsmodels/tsa/holtwinters/model.py:918: ConvergenceWarning: Optimization failed to converge. Check mle_retvals.\n",
      "  warnings.warn(\n"
     ]
    },
    {
     "data": {
      "image/png": "[encoded data removed]",
      "text/plain": [
       "<Figure size 1000x600 with 1 Axes>"
      ]
     },
     "metadata": {},
     "output_type": "display_data"
    }
   ],
   "source": [
    "import pandas as pd\n",
    "import numpy as np\n",
    "from statsmodels.tsa.holtwinters import ExponentialSmoothing\n",
    "import matplotlib.pyplot as plt\n",
    "\n",
    "family = 'GROCERY I'\n",
    "# Supondo que a coluna 'date' seja o índice do dataframe\n",
    "fdf = df[df['family'] == family].copy()\n",
    "#fdf.set_index('date', inplace=True)  # Definir 'date' como índice\n",
    "fdf.index = pd.to_datetime(fdf.index)  # Converter para datetime\n",
    "\n",
    "# Ajustar o modelo Holt-Winters sem sazonalidade\n",
    "model = ExponentialSmoothing(\n",
    "    fdf['quantity'],\n",
    "    trend='add',    # Use 'add' para tendência, ou None se não houver tendência\n",
    "    seasonal=None   # Como não há sazonalidade, definimos como None\n",
    ")\n",
    "model_fit = model.fit()\n",
    "\n",
    "# Fazer previsões\n",
    "forecast = model_fit.forecast(steps=12)\n",
    "\n",
    "# Ajustando o índice da previsão para corresponder às datas\n",
    "#forecast_index = pd.date_range(start=fdf.index[0], periods=30, freq='MS')\n",
    "#forecast = pd.Series(forecast, index=forecast_index)\n",
    "\n",
    "# Plotar resultados\n",
    "plt.figure(figsize=(10, 6))\n",
    "plt.plot(fdf.index, fdf['quantity'], label='Dados Reais')\n",
    "plt.plot(forecast.index, forecast, label='Previsões', color='red')\n",
    "plt.legend()\n",
    "plt.title('Previsão com Suavização Exponencial')\n",
    "plt.xlabel('Data')\n",
    "plt.ylabel('Valor')\n",
    "plt.show()\n"
   ]
  },
  {
   "cell_type": "code",
   "execution_count": null,
   "metadata": {},
   "outputs": [
    {
     "name": "stderr",
     "output_type": "stream",
     "text": [
      "/home/adriel/anaconda3/lib/python3.11/site-packages/statsmodels/tsa/base/tsa_model.py:473: ValueWarning: No frequency information was provided, so inferred frequency MS will be used.\n",
      "  self._init_dates(dates, freq)\n",
      "/home/adriel/anaconda3/lib/python3.11/site-packages/statsmodels/tsa/holtwinters/model.py:918: ConvergenceWarning: Optimization failed to converge. Check mle_retvals.\n",
      "  warnings.warn(\n"
     ]
    },
    {
     "data": {
      "image/png": "[encoded data removed]",
      "text/plain": [
       "<Figure size 1000x600 with 1 Axes>"
      ]
     },
     "metadata": {},
     "output_type": "display_data"
    }
   ],
   "source": [
    "# Definindo a família que você quer analisar\n",
    "family = \"GROCERY I\"\n",
    "\n",
    "# Filtrando os dados pela família\n",
    "fdf = df[df['family'] == family].copy()\n",
    "\n",
    "# Convertendo o índice para datetime\n",
    "fdf.index = pd.to_datetime(fdf.index)\n",
    "\n",
    "# Definindo o ponto de corte entre treino e teste (80% treino, 20% teste)\n",
    "train_size = int(len(fdf) * 0.8)\n",
    "train, test = fdf.iloc[:train_size], fdf.iloc[train_size:]\n",
    "\n",
    "# Ajustando o modelo Holt-Winters no conjunto de treino\n",
    "model = ExponentialSmoothing(\n",
    "    train['quantity'],\n",
    "    trend='add',    # Use 'add' para tendência, ou None se não houver tendência\n",
    "    seasonal=None   # Como não há sazonalidade, definimos como None\n",
    ")\n",
    "model_fit = model.fit()\n",
    "\n",
    "# Fazer previsões para o período de teste\n",
    "forecast = model_fit.forecast(steps=len(test))\n",
    "\n",
    "# Plotar os resultados\n",
    "plt.figure(figsize=(10, 6))\n",
    "plt.plot(train.index, train['quantity'], label='Dados de Treino')\n",
    "plt.plot(test.index, test['quantity'], label='Dados de Teste')\n",
    "plt.plot(forecast.index, forecast, label='Previsões', color='red')\n",
    "plt.legend()\n",
    "plt.title('Previsão com Suavização Exponencial')\n",
    "plt.xlabel('Data')\n",
    "plt.ylabel('Quantidade')\n",
    "plt.show()\n"
   ]
  },
  {
   "cell_type": "code",
   "execution_count": null,
   "metadata": {},
   "outputs": [
    {
     "data": {
      "text/plain": [
       "2017-09-01    333580.526652\n",
       "2017-10-01    335191.376538\n",
       "2017-11-01    336802.226424\n",
       "2017-12-01    338413.076310\n",
       "2018-01-01    340023.926195\n",
       "2018-02-01    341634.776081\n",
       "2018-03-01    343245.625967\n",
       "2018-04-01    344856.475853\n",
       "2018-05-01    346467.325739\n",
       "2018-06-01    348078.175624\n",
       "2018-07-01    349689.025510\n",
       "2018-08-01    351299.875396\n",
       "Freq: MS, dtype: float64"
      ]
     },
     "execution_count": 257,
     "metadata": {},
     "output_type": "execute_result"
    }
   ],
   "source": [
    "forecast"
   ]
  },
  {
   "cell_type": "code",
   "execution_count": null,
   "metadata": {},
   "outputs": [
    {
     "data": {
      "text/plain": [
       "RangeIndex(start=1679, stop=1691, step=1)"
      ]
     },
     "execution_count": 243,
     "metadata": {},
     "output_type": "execute_result"
    }
   ],
   "source": [
    "forecast.index"
   ]
  },
  {
   "cell_type": "code",
   "execution_count": null,
   "metadata": {},
   "outputs": [
    {
     "data": {
      "text/plain": [
       "2013-01-31   NaN\n",
       "2013-02-28   NaN\n",
       "2013-03-31   NaN\n",
       "2013-04-30   NaN\n",
       "2013-05-31   NaN\n",
       "2013-06-30   NaN\n",
       "2013-07-31   NaN\n",
       "2013-08-31   NaN\n",
       "2013-09-30   NaN\n",
       "2013-10-31   NaN\n",
       "2013-11-30   NaN\n",
       "2013-12-31   NaN\n",
       "2014-01-31   NaN\n",
       "2014-02-28   NaN\n",
       "2014-03-31   NaN\n",
       "2014-04-30   NaN\n",
       "2014-05-31   NaN\n",
       "2014-06-30   NaN\n",
       "2014-07-31   NaN\n",
       "2014-08-31   NaN\n",
       "2014-09-30   NaN\n",
       "2014-10-31   NaN\n",
       "2014-11-30   NaN\n",
       "2014-12-31   NaN\n",
       "2015-01-31   NaN\n",
       "2015-02-28   NaN\n",
       "2015-03-31   NaN\n",
       "2015-04-30   NaN\n",
       "2015-05-31   NaN\n",
       "2015-06-30   NaN\n",
       "Freq: ME, dtype: float64"
      ]
     },
     "execution_count": 252,
     "metadata": {},
     "output_type": "execute_result"
    }
   ],
   "source": [
    "forecast"
   ]
  },
  {
   "cell_type": "code",
   "execution_count": null,
   "metadata": {},
   "outputs": [],
   "source": []
  }
 ],
 "metadata": {
  "kernelspec": {
   "display_name": "base",
   "language": "python",
   "name": "python3"
  },
  "language_info": {
   "codemirror_mode": {
    "name": "ipython",
    "version": 3
   },
   "file_extension": ".py",
   "mimetype": "text/x-python",
   "name": "python",
   "nbconvert_exporter": "python",
   "pygments_lexer": "ipython3",
   "version": "3.11.5"
  }
 },
 "nbformat": 4,
 "nbformat_minor": 2
}
